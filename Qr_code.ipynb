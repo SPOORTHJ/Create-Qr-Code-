{
 "cells": [
  {
   "cell_type": "code",
   "execution_count": 2,
   "id": "39e1f420",
   "metadata": {
    "scrolled": true
   },
   "outputs": [
    {
     "name": "stdout",
     "output_type": "stream",
     "text": [
      "Defaulting to user installation because normal site-packages is not writeable\n",
      "Requirement already satisfied: qrcode[pil] in c:\\users\\spoor\\appdata\\roaming\\python\\python310\\site-packages (7.4.2)\n",
      "Requirement already satisfied: typing-extensions in c:\\programdata\\anaconda3\\lib\\site-packages (from qrcode[pil]) (4.4.0)\n",
      "Requirement already satisfied: colorama in c:\\programdata\\anaconda3\\lib\\site-packages (from qrcode[pil]) (0.4.6)\n",
      "Requirement already satisfied: pypng in c:\\users\\spoor\\appdata\\roaming\\python\\python310\\site-packages (from qrcode[pil]) (0.20220715.0)\n",
      "Requirement already satisfied: pillow>=9.1.0 in c:\\programdata\\anaconda3\\lib\\site-packages (from qrcode[pil]) (9.4.0)\n"
     ]
    }
   ],
   "source": [
    "!pip install qrcode[pil]"
   ]
  },
  {
   "cell_type": "code",
   "execution_count": 4,
   "id": "baf6dfe9",
   "metadata": {
    "scrolled": true
   },
   "outputs": [],
   "source": [
    "import qrcode\n",
    "\n",
    "# Define the data you want to encode in the QR code\n",
    "#data = \"https://www.amazon.in/\"  # Replace with your data\n",
    "data=\"Have a nice day!!!\"\n",
    "# Create a QR code object\n",
    "qr = qrcode.QRCode(\n",
    "    version=1,\n",
    "    error_correction=qrcode.constants.ERROR_CORRECT_L,\n",
    "    box_size=10,\n",
    "    border=4,\n",
    ")\n",
    "\n",
    "# Add data to the QR code\n",
    "qr.add_data(data)\n",
    "qr.make(fit=True)\n",
    "\n",
    "# Create a PIL image from the QR code data\n",
    "qr_code_img = qr.make_image(fill_color=\"black\", back_color=\"white\")"
   ]
  },
  {
   "cell_type": "code",
   "execution_count": 5,
   "id": "0e3681c6",
   "metadata": {},
   "outputs": [
    {
     "data": {
      "image/png": "[encoded data removed]",
      "text/plain": [
       "<IPython.core.display.Image object>"
      ]
     },
     "execution_count": 5,
     "metadata": {},
     "output_type": "execute_result"
    }
   ],
   "source": [
    "from IPython.display import Image\n",
    "\n",
    "# Display the QR code\n",
    "qr_code_img.save(\"qr_code.png\")  # Save the QR code as an image\n",
    "Image(filename=\"qr_code.png\")"
   ]
  },
  {
   "cell_type": "code",
   "execution_count": null,
   "id": "9fc8d606",
   "metadata": {},
   "outputs": [],
   "source": []
  }
 ],
 "metadata": {
  "kernelspec": {
   "display_name": "Python 3 (ipykernel)",
   "language": "python",
   "name": "python3"
  },
  "language_info": {
   "codemirror_mode": {
    "name": "ipython",
    "version": 3
   },
   "file_extension": ".py",
   "mimetype": "text/x-python",
   "name": "python",
   "nbconvert_exporter": "python",
   "pygments_lexer": "ipython3",
   "version": "3.10.9"
  }
 },
 "nbformat": 4,
 "nbformat_minor": 5
}
